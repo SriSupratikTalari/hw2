{
 "cells": [
  {
   "cell_type": "markdown",
   "metadata": {
    "id": "bHQx6TDJ7gY4"
   },
   "source": [
    "# Homework 2\n",
    "\n",
    "## Message from your Prof\n",
    "> **Remember for the best way to learn this content, and maximize your learning experience, you must implement these models yourself and only use imports for checking your work**\n",
    "\n",
    "You can only import classification_report from sklearn evaluation metrics (you do not need to implement classification report), but you have to implement the train_test_split, and the classifiers yourselves. You will need to use numpy or pandas as inputs for your models. You should only use the imports listed below to check your work.\n",
    "\n",
    "Students that do not practice their own implementations **will be cooked** in their skill assessments. I do not want to hear students complaining they did poorly because the homeworks did not reflect the skill assessments. YOU HAVE BEEN WARNED!!!\n",
    "\n",
    "<br>\n",
    "In this assignment, we will be building a Naïve Bayes classifier and a SVM model for the productivity satisfaction of [the given dataset](https://archive.ics.uci.edu/ml/datasets/Productivity+Prediction+of+Garment+Employees), the productivity of garment employees.\n",
    "\n",
    "## Background\n",
    "The Garment Industry is one of the key examples of the industrial globalization of this modern era. It is a highly labour-intensive industry with lots of manual processes. Satisfying the huge global demand for garment products is mostly dependent on the production and delivery performance of the employees in the garment manufacturing companies. So, it is highly desirable among the decision makers in the garments industry to track, analyse and predict the productivity performance of the working teams in their factories.\n",
    "\n",
    "## Dataset Attribute Information\n",
    "\n",
    "1. **date**: Date in MM-DD-YYYY\n",
    "2. **day**: Day of the Week\n",
    "3. **quarter** : A portion of the month. A month was divided into four quarters\n",
    "4. **department** : Associated department with the instance\n",
    "5. **team_no** : Associated team number with the instance\n",
    "6. **no_of_workers** : Number of workers in each team\n",
    "7. **no_of_style_change** : Number of changes in the style of a particular product\n",
    "8. **targeted_productivity** : Targeted productivity set by the Authority for each team for each day.\n",
    "9. **smv** : Standard Minute Value, it is the allocated time for a task\n",
    "10. **wip** : Work in progress. Includes the number of unfinished items for products\n",
    "11. **over_time** : Represents the amount of overtime by each team in minutes\n",
    "12. **incentive** : Represents the amount of financial incentive (in BDT) that enables or motivates a particular course of action.\n",
    "13. **idle_time** : The amount of time when the production was interrupted due to several reasons\n",
    "14. **idle_men** : The number of workers who were idle due to production interruption\n",
    "15. **actual_productivity** : The actual % of productivity that was delivered by the workers. It ranges from 0-1.\n",
    "\n",
    "### Libraries that can be used: numpy, scipy, pandas, scikit-learn, cvxpy, imbalanced-learn\n",
    "Any libraries used in the discussion materials are also allowed.\n",
    "\n",
    "#### Other Notes\n",
    "\n",
    " - Don't worry about not being able to achieve high accuracy, it is neither the goal nor the grading standard of this assignment. <br >\n",
    " - If not specified, you are not required to do hyperparameter tuning, but feel free to do so if you'd like.\n",
    "\n",
    "#### Trouble Shooting\n",
    "In case you have trouble installing and using imbalanced-learn(imblearn) <br >\n",
    "Run the below code cell, then go to the selection bar at top: Kernel > Restart. <br >\n",
    "Then try `import imblearn` to see if things work."
   ]
  },
  {
   "cell_type": "code",
   "execution_count": 2,
   "metadata": {
    "colab": {
     "base_uri": "https://localhost:8080/",
     "height": 36
    },
    "executionInfo": {
     "elapsed": 2437,
     "status": "ok",
     "timestamp": 1755113182997,
     "user": {
      "displayName": "Edwin Solares",
      "userId": "11484617739850343773"
     },
     "user_tz": 420
    },
    "id": "v-KORp1-961U",
    "outputId": "bfbe2aab-c93f-44ec-d730-255ebc82b57f"
   },
   "outputs": [
    {
     "data": {
      "text/plain": [
       "'Darwin'"
      ]
     },
     "metadata": {},
     "output_type": "display_data"
    }
   ],
   "source": [
    "import platform\n",
    "display(platform.system())\n",
    "import os\n",
    "file_download_link = 'https://www.dropbox.com/scl/fi/j1dxtqjerbdbl81e05nvp/hw4data.zip?rlkey=8mkxz4j8lngziok6on782a8u4&dl=0'\n",
    "if os.name == 'nt':\n",
    "    print('Please download your dataset here:', file_download_link)\n",
    "else:\n",
    "    # We need to first download the data here:\n",
    "    !wget -O data.zip \"$file_download_link\" -o /dev/null\n",
    "    !unzip data.zip > /dev/null"
   ]
  },
  {
   "cell_type": "code",
   "execution_count": 3,
   "metadata": {
    "executionInfo": {
     "elapsed": 117,
     "status": "ok",
     "timestamp": 1755113183125,
     "user": {
      "displayName": "Edwin Solares",
      "userId": "11484617739850343773"
     },
     "user_tz": 420
    },
    "id": "zAn5IT0BKu28"
   },
   "outputs": [],
   "source": [
    "!sed 's/,/\\t/g' garments_worker_productivity.csv > garments_worker_productivity.tsv"
   ]
  },
  {
   "cell_type": "code",
   "execution_count": 3,
   "metadata": {
    "executionInfo": {
     "elapsed": 56,
     "status": "ok",
     "timestamp": 1755113183184,
     "user": {
      "displayName": "Edwin Solares",
      "userId": "11484617739850343773"
     },
     "user_tz": 420
    },
    "id": "JRujZpIb-cTG"
   },
   "outputs": [],
   "source": [
    "# If your data is on google drive then uncomment the code below to access\n",
    "# your google drive.\n",
    "#from google.colab import drive\n",
    "#drive.mount('/content/drive')"
   ]
  },
  {
   "cell_type": "code",
   "execution_count": 4,
   "metadata": {
    "colab": {
     "base_uri": "https://localhost:8080/"
    },
    "executionInfo": {
     "elapsed": 6608,
     "status": "ok",
     "timestamp": 1755113189789,
     "user": {
      "displayName": "Edwin Solares",
      "userId": "11484617739850343773"
     },
     "user_tz": 420
    },
    "id": "uXvnD44V7gY7",
    "outputId": "f6a2e811-0794-4109-9e3d-8ab19f763c90"
   },
   "outputs": [
    {
     "name": "stdout",
     "output_type": "stream",
     "text": [
      "Collecting imbalanced-learn\n",
      "  Downloading imbalanced_learn-0.14.0-py3-none-any.whl.metadata (8.8 kB)\n",
      "Collecting delayed\n",
      "  Downloading delayed-1.2.0b2-py2.py3-none-any.whl.metadata (9.5 kB)\n",
      "Requirement already satisfied: numpy<3,>=1.25.2 in /Library/Frameworks/Python.framework/Versions/3.12/lib/python3.12/site-packages (from imbalanced-learn) (2.1.3)\n",
      "Requirement already satisfied: scipy<2,>=1.11.4 in /Library/Frameworks/Python.framework/Versions/3.12/lib/python3.12/site-packages (from imbalanced-learn) (1.15.3)\n",
      "Requirement already satisfied: scikit-learn<2,>=1.4.2 in /Library/Frameworks/Python.framework/Versions/3.12/lib/python3.12/site-packages (from imbalanced-learn) (1.6.1)\n",
      "Requirement already satisfied: joblib<2,>=1.2.0 in /Library/Frameworks/Python.framework/Versions/3.12/lib/python3.12/site-packages (from imbalanced-learn) (1.5.0)\n",
      "Requirement already satisfied: threadpoolctl<4,>=2.0.0 in /Library/Frameworks/Python.framework/Versions/3.12/lib/python3.12/site-packages (from imbalanced-learn) (3.6.0)\n",
      "Collecting hiredis (from delayed)\n",
      "  Downloading hiredis-3.2.1-cp312-cp312-macosx_11_0_arm64.whl.metadata (7.5 kB)\n",
      "Collecting redis (from delayed)\n",
      "  Downloading redis-6.4.0-py3-none-any.whl.metadata (10 kB)\n",
      "Collecting msgpack (from delayed)\n",
      "  Downloading msgpack-1.1.1-cp312-cp312-macosx_11_0_arm64.whl.metadata (8.4 kB)\n",
      "Downloading imbalanced_learn-0.14.0-py3-none-any.whl (239 kB)\n",
      "Downloading delayed-1.2.0b2-py2.py3-none-any.whl (12 kB)\n",
      "Downloading hiredis-3.2.1-cp312-cp312-macosx_11_0_arm64.whl (43 kB)\n",
      "Downloading msgpack-1.1.1-cp312-cp312-macosx_11_0_arm64.whl (79 kB)\n",
      "Downloading redis-6.4.0-py3-none-any.whl (279 kB)\n",
      "Installing collected packages: redis, msgpack, hiredis, delayed, imbalanced-learn\n",
      "Successfully installed delayed-1.2.0b2 hiredis-3.2.1 imbalanced-learn-0.14.0 msgpack-1.1.1 redis-6.4.0\n",
      "\n",
      "\u001b[1m[\u001b[0m\u001b[34;49mnotice\u001b[0m\u001b[1;39;49m]\u001b[0m\u001b[39;49m A new release of pip is available: \u001b[0m\u001b[31;49m24.3.1\u001b[0m\u001b[39;49m -> \u001b[0m\u001b[32;49m25.2\u001b[0m\n",
      "\u001b[1m[\u001b[0m\u001b[34;49mnotice\u001b[0m\u001b[1;39;49m]\u001b[0m\u001b[39;49m To update, run: \u001b[0m\u001b[32;49mpip install --upgrade pip\u001b[0m\n"
     ]
    }
   ],
   "source": [
    "# Install a pip package in the current Jupyter kernel\n",
    "import sys\n",
    "!{sys.executable} -m pip install imbalanced-learn delayed"
   ]
  },
  {
   "cell_type": "markdown",
   "metadata": {
    "id": "nA-scNoo7gY8"
   },
   "source": [
    "# Exercises\n",
    "\n",
    "## Exercise 1 - General Data Preprocessing (20 points)\n",
    "\n",
    "Our dataset needs cleaning before building any models. Some of the cleaning tasks are common in general, but depends on what kind of models we are building, sometimes we have to do additional processing. These additional tasks will be mentioned in each of the remaining two exercises later.\n",
    "\n",
    "Note that **we will be using this processed data from exercise 1 in each of the remaining two exercises**.\n",
    "\n",
    "For convenience, here are the attributes that we would treat them as **categorical attributes**: `day`, `quarter`, `department`, and `team`.\n",
    "\n",
    "Realize that `quarter` is not referring to certain months of the year, but certain days of the month. \"Quarter1\" represents days 1-7, \"Quarter2\" days 8-14, \"Quarter3\" days 15-21, \"Quarter4\" days 22-28, and \"Quarter5\" days 29-31\n",
    "\n",
    " - Drop the column `date`.\n",
    " - For each of the categorical attributes, **print out** all the unique elements.\n",
    " - For each of the categorical attributes, remap the duplicated items, if you find there are typos or spaces among the duplicated items.\n",
    "     - For example, \"a\" and \"a \" should be the same, so we need to update \"a \" to be \"a\".\n",
    "     - Another example, \"apple\" and \"appel\" should be the same, so you should update \"appel\" to be \"apple\".\n",
    "     \n",
    "\n",
    " - Create another column named `satisfied` that records the productivity performance. The behavior defined as follows. **This is the dependent variable we'd like to classify in this assignment.**\n",
    "     - Return True or 1 if `actual_productivity` is equal to or greater than `targeted_productivity`. Otherwise, return False or 0, which means the team fails to meet the expected performance.\n",
    " - Drop the columns `actual_productivity` and `targeted_productivity`.\n",
    "\n",
    "\n",
    " - Find and **print out** which columns/attributes that have empty vaules, e.g., NA, NaN, null, None.\n",
    " - You must use `df.describe()` or `df.info()` to display the data after preprocessing. **No credit** will be given if this step is omitted.\n",
    " - Fill the empty values with 0.\n"
   ]
  },
  {
   "cell_type": "code",
   "execution_count": 1,
   "metadata": {
    "executionInfo": {
     "elapsed": 605,
     "status": "ok",
     "timestamp": 1755113190397,
     "user": {
      "displayName": "Edwin Solares",
      "userId": "11484617739850343773"
     },
     "user_tz": 420
    },
    "id": "hP-Qh9Nm7gY9"
   },
   "outputs": [],
   "source": [
    "import pandas as pd\n",
    "# If put the data(.csv) under the same folder, you could use\n",
    "df = pd.read_csv('garments_worker_productivity.csv')"
   ]
  },
  {
   "cell_type": "code",
   "execution_count": 2,
   "metadata": {},
   "outputs": [
    {
     "data": {
      "text/html": [
       "<div>\n",
       "<style scoped>\n",
       "    .dataframe tbody tr th:only-of-type {\n",
       "        vertical-align: middle;\n",
       "    }\n",
       "\n",
       "    .dataframe tbody tr th {\n",
       "        vertical-align: top;\n",
       "    }\n",
       "\n",
       "    .dataframe thead th {\n",
       "        text-align: right;\n",
       "    }\n",
       "</style>\n",
       "<table border=\"1\" class=\"dataframe\">\n",
       "  <thead>\n",
       "    <tr style=\"text-align: right;\">\n",
       "      <th></th>\n",
       "      <th>date</th>\n",
       "      <th>quarter</th>\n",
       "      <th>department</th>\n",
       "      <th>day</th>\n",
       "      <th>team</th>\n",
       "      <th>targeted_productivity</th>\n",
       "      <th>smv</th>\n",
       "      <th>wip</th>\n",
       "      <th>over_time</th>\n",
       "      <th>incentive</th>\n",
       "      <th>idle_time</th>\n",
       "      <th>idle_men</th>\n",
       "      <th>no_of_style_change</th>\n",
       "      <th>no_of_workers</th>\n",
       "      <th>actual_productivity</th>\n",
       "    </tr>\n",
       "  </thead>\n",
       "  <tbody>\n",
       "    <tr>\n",
       "      <th>0</th>\n",
       "      <td>1/1/2015</td>\n",
       "      <td>Quarter1</td>\n",
       "      <td>sweing</td>\n",
       "      <td>Thursday</td>\n",
       "      <td>8</td>\n",
       "      <td>0.80</td>\n",
       "      <td>26.16</td>\n",
       "      <td>1108.0</td>\n",
       "      <td>7080</td>\n",
       "      <td>98</td>\n",
       "      <td>0.0</td>\n",
       "      <td>0</td>\n",
       "      <td>0</td>\n",
       "      <td>59.0</td>\n",
       "      <td>0.940725</td>\n",
       "    </tr>\n",
       "    <tr>\n",
       "      <th>1</th>\n",
       "      <td>1/1/2015</td>\n",
       "      <td>Quarter1</td>\n",
       "      <td>finishing</td>\n",
       "      <td>Thursday</td>\n",
       "      <td>1</td>\n",
       "      <td>0.75</td>\n",
       "      <td>3.94</td>\n",
       "      <td>NaN</td>\n",
       "      <td>960</td>\n",
       "      <td>0</td>\n",
       "      <td>0.0</td>\n",
       "      <td>0</td>\n",
       "      <td>0</td>\n",
       "      <td>8.0</td>\n",
       "      <td>0.886500</td>\n",
       "    </tr>\n",
       "    <tr>\n",
       "      <th>2</th>\n",
       "      <td>1/1/2015</td>\n",
       "      <td>Quarter1</td>\n",
       "      <td>sweing</td>\n",
       "      <td>Thursday</td>\n",
       "      <td>11</td>\n",
       "      <td>0.80</td>\n",
       "      <td>11.41</td>\n",
       "      <td>968.0</td>\n",
       "      <td>3660</td>\n",
       "      <td>50</td>\n",
       "      <td>0.0</td>\n",
       "      <td>0</td>\n",
       "      <td>0</td>\n",
       "      <td>30.5</td>\n",
       "      <td>0.800570</td>\n",
       "    </tr>\n",
       "    <tr>\n",
       "      <th>3</th>\n",
       "      <td>1/1/2015</td>\n",
       "      <td>Quarter1</td>\n",
       "      <td>sweing</td>\n",
       "      <td>Thursday</td>\n",
       "      <td>12</td>\n",
       "      <td>0.80</td>\n",
       "      <td>11.41</td>\n",
       "      <td>968.0</td>\n",
       "      <td>3660</td>\n",
       "      <td>50</td>\n",
       "      <td>0.0</td>\n",
       "      <td>0</td>\n",
       "      <td>0</td>\n",
       "      <td>30.5</td>\n",
       "      <td>0.800570</td>\n",
       "    </tr>\n",
       "    <tr>\n",
       "      <th>4</th>\n",
       "      <td>1/1/2015</td>\n",
       "      <td>Quarter1</td>\n",
       "      <td>sweing</td>\n",
       "      <td>Thursday</td>\n",
       "      <td>6</td>\n",
       "      <td>0.80</td>\n",
       "      <td>25.90</td>\n",
       "      <td>1170.0</td>\n",
       "      <td>1920</td>\n",
       "      <td>50</td>\n",
       "      <td>0.0</td>\n",
       "      <td>0</td>\n",
       "      <td>0</td>\n",
       "      <td>56.0</td>\n",
       "      <td>0.800382</td>\n",
       "    </tr>\n",
       "    <tr>\n",
       "      <th>...</th>\n",
       "      <td>...</td>\n",
       "      <td>...</td>\n",
       "      <td>...</td>\n",
       "      <td>...</td>\n",
       "      <td>...</td>\n",
       "      <td>...</td>\n",
       "      <td>...</td>\n",
       "      <td>...</td>\n",
       "      <td>...</td>\n",
       "      <td>...</td>\n",
       "      <td>...</td>\n",
       "      <td>...</td>\n",
       "      <td>...</td>\n",
       "      <td>...</td>\n",
       "      <td>...</td>\n",
       "    </tr>\n",
       "    <tr>\n",
       "      <th>1192</th>\n",
       "      <td>3/11/2015</td>\n",
       "      <td>Quarter2</td>\n",
       "      <td>finishing</td>\n",
       "      <td>Wednesday</td>\n",
       "      <td>10</td>\n",
       "      <td>0.75</td>\n",
       "      <td>2.90</td>\n",
       "      <td>NaN</td>\n",
       "      <td>960</td>\n",
       "      <td>0</td>\n",
       "      <td>0.0</td>\n",
       "      <td>0</td>\n",
       "      <td>0</td>\n",
       "      <td>8.0</td>\n",
       "      <td>0.628333</td>\n",
       "    </tr>\n",
       "    <tr>\n",
       "      <th>1193</th>\n",
       "      <td>3/11/2015</td>\n",
       "      <td>Quarter2</td>\n",
       "      <td>finishing</td>\n",
       "      <td>Wednesday</td>\n",
       "      <td>8</td>\n",
       "      <td>0.70</td>\n",
       "      <td>3.90</td>\n",
       "      <td>NaN</td>\n",
       "      <td>960</td>\n",
       "      <td>0</td>\n",
       "      <td>0.0</td>\n",
       "      <td>0</td>\n",
       "      <td>0</td>\n",
       "      <td>8.0</td>\n",
       "      <td>0.625625</td>\n",
       "    </tr>\n",
       "    <tr>\n",
       "      <th>1194</th>\n",
       "      <td>3/11/2015</td>\n",
       "      <td>Quarter2</td>\n",
       "      <td>finishing</td>\n",
       "      <td>Wednesday</td>\n",
       "      <td>7</td>\n",
       "      <td>0.65</td>\n",
       "      <td>3.90</td>\n",
       "      <td>NaN</td>\n",
       "      <td>960</td>\n",
       "      <td>0</td>\n",
       "      <td>0.0</td>\n",
       "      <td>0</td>\n",
       "      <td>0</td>\n",
       "      <td>8.0</td>\n",
       "      <td>0.625625</td>\n",
       "    </tr>\n",
       "    <tr>\n",
       "      <th>1195</th>\n",
       "      <td>3/11/2015</td>\n",
       "      <td>Quarter2</td>\n",
       "      <td>finishing</td>\n",
       "      <td>Wednesday</td>\n",
       "      <td>9</td>\n",
       "      <td>0.75</td>\n",
       "      <td>2.90</td>\n",
       "      <td>NaN</td>\n",
       "      <td>1800</td>\n",
       "      <td>0</td>\n",
       "      <td>0.0</td>\n",
       "      <td>0</td>\n",
       "      <td>0</td>\n",
       "      <td>15.0</td>\n",
       "      <td>0.505889</td>\n",
       "    </tr>\n",
       "    <tr>\n",
       "      <th>1196</th>\n",
       "      <td>3/11/2015</td>\n",
       "      <td>Quarter2</td>\n",
       "      <td>finishing</td>\n",
       "      <td>Wednesday</td>\n",
       "      <td>6</td>\n",
       "      <td>0.70</td>\n",
       "      <td>2.90</td>\n",
       "      <td>NaN</td>\n",
       "      <td>720</td>\n",
       "      <td>0</td>\n",
       "      <td>0.0</td>\n",
       "      <td>0</td>\n",
       "      <td>0</td>\n",
       "      <td>6.0</td>\n",
       "      <td>0.394722</td>\n",
       "    </tr>\n",
       "  </tbody>\n",
       "</table>\n",
       "<p>1197 rows × 15 columns</p>\n",
       "</div>"
      ],
      "text/plain": [
       "           date   quarter  department        day  team  targeted_productivity  \\\n",
       "0      1/1/2015  Quarter1      sweing   Thursday     8                   0.80   \n",
       "1      1/1/2015  Quarter1  finishing    Thursday     1                   0.75   \n",
       "2      1/1/2015  Quarter1      sweing   Thursday    11                   0.80   \n",
       "3      1/1/2015  Quarter1      sweing   Thursday    12                   0.80   \n",
       "4      1/1/2015  Quarter1      sweing   Thursday     6                   0.80   \n",
       "...         ...       ...         ...        ...   ...                    ...   \n",
       "1192  3/11/2015  Quarter2   finishing  Wednesday    10                   0.75   \n",
       "1193  3/11/2015  Quarter2   finishing  Wednesday     8                   0.70   \n",
       "1194  3/11/2015  Quarter2   finishing  Wednesday     7                   0.65   \n",
       "1195  3/11/2015  Quarter2   finishing  Wednesday     9                   0.75   \n",
       "1196  3/11/2015  Quarter2   finishing  Wednesday     6                   0.70   \n",
       "\n",
       "        smv     wip  over_time  incentive  idle_time  idle_men  \\\n",
       "0     26.16  1108.0       7080         98        0.0         0   \n",
       "1      3.94     NaN        960          0        0.0         0   \n",
       "2     11.41   968.0       3660         50        0.0         0   \n",
       "3     11.41   968.0       3660         50        0.0         0   \n",
       "4     25.90  1170.0       1920         50        0.0         0   \n",
       "...     ...     ...        ...        ...        ...       ...   \n",
       "1192   2.90     NaN        960          0        0.0         0   \n",
       "1193   3.90     NaN        960          0        0.0         0   \n",
       "1194   3.90     NaN        960          0        0.0         0   \n",
       "1195   2.90     NaN       1800          0        0.0         0   \n",
       "1196   2.90     NaN        720          0        0.0         0   \n",
       "\n",
       "      no_of_style_change  no_of_workers  actual_productivity  \n",
       "0                      0           59.0             0.940725  \n",
       "1                      0            8.0             0.886500  \n",
       "2                      0           30.5             0.800570  \n",
       "3                      0           30.5             0.800570  \n",
       "4                      0           56.0             0.800382  \n",
       "...                  ...            ...                  ...  \n",
       "1192                   0            8.0             0.628333  \n",
       "1193                   0            8.0             0.625625  \n",
       "1194                   0            8.0             0.625625  \n",
       "1195                   0           15.0             0.505889  \n",
       "1196                   0            6.0             0.394722  \n",
       "\n",
       "[1197 rows x 15 columns]"
      ]
     },
     "execution_count": 2,
     "metadata": {},
     "output_type": "execute_result"
    }
   ],
   "source": [
    "df"
   ]
  },
  {
   "cell_type": "code",
   "execution_count": 3,
   "metadata": {},
   "outputs": [
    {
     "data": {
      "text/html": [
       "<div>\n",
       "<style scoped>\n",
       "    .dataframe tbody tr th:only-of-type {\n",
       "        vertical-align: middle;\n",
       "    }\n",
       "\n",
       "    .dataframe tbody tr th {\n",
       "        vertical-align: top;\n",
       "    }\n",
       "\n",
       "    .dataframe thead th {\n",
       "        text-align: right;\n",
       "    }\n",
       "</style>\n",
       "<table border=\"1\" class=\"dataframe\">\n",
       "  <thead>\n",
       "    <tr style=\"text-align: right;\">\n",
       "      <th></th>\n",
       "      <th>quarter</th>\n",
       "      <th>department</th>\n",
       "      <th>day</th>\n",
       "      <th>team</th>\n",
       "      <th>targeted_productivity</th>\n",
       "      <th>smv</th>\n",
       "      <th>wip</th>\n",
       "      <th>over_time</th>\n",
       "      <th>incentive</th>\n",
       "      <th>idle_time</th>\n",
       "      <th>idle_men</th>\n",
       "      <th>no_of_style_change</th>\n",
       "      <th>no_of_workers</th>\n",
       "      <th>actual_productivity</th>\n",
       "    </tr>\n",
       "  </thead>\n",
       "  <tbody>\n",
       "    <tr>\n",
       "      <th>0</th>\n",
       "      <td>Quarter1</td>\n",
       "      <td>sweing</td>\n",
       "      <td>Thursday</td>\n",
       "      <td>8</td>\n",
       "      <td>0.80</td>\n",
       "      <td>26.16</td>\n",
       "      <td>1108.0</td>\n",
       "      <td>7080</td>\n",
       "      <td>98</td>\n",
       "      <td>0.0</td>\n",
       "      <td>0</td>\n",
       "      <td>0</td>\n",
       "      <td>59.0</td>\n",
       "      <td>0.940725</td>\n",
       "    </tr>\n",
       "    <tr>\n",
       "      <th>1</th>\n",
       "      <td>Quarter1</td>\n",
       "      <td>finishing</td>\n",
       "      <td>Thursday</td>\n",
       "      <td>1</td>\n",
       "      <td>0.75</td>\n",
       "      <td>3.94</td>\n",
       "      <td>NaN</td>\n",
       "      <td>960</td>\n",
       "      <td>0</td>\n",
       "      <td>0.0</td>\n",
       "      <td>0</td>\n",
       "      <td>0</td>\n",
       "      <td>8.0</td>\n",
       "      <td>0.886500</td>\n",
       "    </tr>\n",
       "    <tr>\n",
       "      <th>2</th>\n",
       "      <td>Quarter1</td>\n",
       "      <td>sweing</td>\n",
       "      <td>Thursday</td>\n",
       "      <td>11</td>\n",
       "      <td>0.80</td>\n",
       "      <td>11.41</td>\n",
       "      <td>968.0</td>\n",
       "      <td>3660</td>\n",
       "      <td>50</td>\n",
       "      <td>0.0</td>\n",
       "      <td>0</td>\n",
       "      <td>0</td>\n",
       "      <td>30.5</td>\n",
       "      <td>0.800570</td>\n",
       "    </tr>\n",
       "    <tr>\n",
       "      <th>3</th>\n",
       "      <td>Quarter1</td>\n",
       "      <td>sweing</td>\n",
       "      <td>Thursday</td>\n",
       "      <td>12</td>\n",
       "      <td>0.80</td>\n",
       "      <td>11.41</td>\n",
       "      <td>968.0</td>\n",
       "      <td>3660</td>\n",
       "      <td>50</td>\n",
       "      <td>0.0</td>\n",
       "      <td>0</td>\n",
       "      <td>0</td>\n",
       "      <td>30.5</td>\n",
       "      <td>0.800570</td>\n",
       "    </tr>\n",
       "    <tr>\n",
       "      <th>4</th>\n",
       "      <td>Quarter1</td>\n",
       "      <td>sweing</td>\n",
       "      <td>Thursday</td>\n",
       "      <td>6</td>\n",
       "      <td>0.80</td>\n",
       "      <td>25.90</td>\n",
       "      <td>1170.0</td>\n",
       "      <td>1920</td>\n",
       "      <td>50</td>\n",
       "      <td>0.0</td>\n",
       "      <td>0</td>\n",
       "      <td>0</td>\n",
       "      <td>56.0</td>\n",
       "      <td>0.800382</td>\n",
       "    </tr>\n",
       "    <tr>\n",
       "      <th>...</th>\n",
       "      <td>...</td>\n",
       "      <td>...</td>\n",
       "      <td>...</td>\n",
       "      <td>...</td>\n",
       "      <td>...</td>\n",
       "      <td>...</td>\n",
       "      <td>...</td>\n",
       "      <td>...</td>\n",
       "      <td>...</td>\n",
       "      <td>...</td>\n",
       "      <td>...</td>\n",
       "      <td>...</td>\n",
       "      <td>...</td>\n",
       "      <td>...</td>\n",
       "    </tr>\n",
       "    <tr>\n",
       "      <th>1192</th>\n",
       "      <td>Quarter2</td>\n",
       "      <td>finishing</td>\n",
       "      <td>Wednesday</td>\n",
       "      <td>10</td>\n",
       "      <td>0.75</td>\n",
       "      <td>2.90</td>\n",
       "      <td>NaN</td>\n",
       "      <td>960</td>\n",
       "      <td>0</td>\n",
       "      <td>0.0</td>\n",
       "      <td>0</td>\n",
       "      <td>0</td>\n",
       "      <td>8.0</td>\n",
       "      <td>0.628333</td>\n",
       "    </tr>\n",
       "    <tr>\n",
       "      <th>1193</th>\n",
       "      <td>Quarter2</td>\n",
       "      <td>finishing</td>\n",
       "      <td>Wednesday</td>\n",
       "      <td>8</td>\n",
       "      <td>0.70</td>\n",
       "      <td>3.90</td>\n",
       "      <td>NaN</td>\n",
       "      <td>960</td>\n",
       "      <td>0</td>\n",
       "      <td>0.0</td>\n",
       "      <td>0</td>\n",
       "      <td>0</td>\n",
       "      <td>8.0</td>\n",
       "      <td>0.625625</td>\n",
       "    </tr>\n",
       "    <tr>\n",
       "      <th>1194</th>\n",
       "      <td>Quarter2</td>\n",
       "      <td>finishing</td>\n",
       "      <td>Wednesday</td>\n",
       "      <td>7</td>\n",
       "      <td>0.65</td>\n",
       "      <td>3.90</td>\n",
       "      <td>NaN</td>\n",
       "      <td>960</td>\n",
       "      <td>0</td>\n",
       "      <td>0.0</td>\n",
       "      <td>0</td>\n",
       "      <td>0</td>\n",
       "      <td>8.0</td>\n",
       "      <td>0.625625</td>\n",
       "    </tr>\n",
       "    <tr>\n",
       "      <th>1195</th>\n",
       "      <td>Quarter2</td>\n",
       "      <td>finishing</td>\n",
       "      <td>Wednesday</td>\n",
       "      <td>9</td>\n",
       "      <td>0.75</td>\n",
       "      <td>2.90</td>\n",
       "      <td>NaN</td>\n",
       "      <td>1800</td>\n",
       "      <td>0</td>\n",
       "      <td>0.0</td>\n",
       "      <td>0</td>\n",
       "      <td>0</td>\n",
       "      <td>15.0</td>\n",
       "      <td>0.505889</td>\n",
       "    </tr>\n",
       "    <tr>\n",
       "      <th>1196</th>\n",
       "      <td>Quarter2</td>\n",
       "      <td>finishing</td>\n",
       "      <td>Wednesday</td>\n",
       "      <td>6</td>\n",
       "      <td>0.70</td>\n",
       "      <td>2.90</td>\n",
       "      <td>NaN</td>\n",
       "      <td>720</td>\n",
       "      <td>0</td>\n",
       "      <td>0.0</td>\n",
       "      <td>0</td>\n",
       "      <td>0</td>\n",
       "      <td>6.0</td>\n",
       "      <td>0.394722</td>\n",
       "    </tr>\n",
       "  </tbody>\n",
       "</table>\n",
       "<p>1197 rows × 14 columns</p>\n",
       "</div>"
      ],
      "text/plain": [
       "       quarter  department        day  team  targeted_productivity    smv  \\\n",
       "0     Quarter1      sweing   Thursday     8                   0.80  26.16   \n",
       "1     Quarter1  finishing    Thursday     1                   0.75   3.94   \n",
       "2     Quarter1      sweing   Thursday    11                   0.80  11.41   \n",
       "3     Quarter1      sweing   Thursday    12                   0.80  11.41   \n",
       "4     Quarter1      sweing   Thursday     6                   0.80  25.90   \n",
       "...        ...         ...        ...   ...                    ...    ...   \n",
       "1192  Quarter2   finishing  Wednesday    10                   0.75   2.90   \n",
       "1193  Quarter2   finishing  Wednesday     8                   0.70   3.90   \n",
       "1194  Quarter2   finishing  Wednesday     7                   0.65   3.90   \n",
       "1195  Quarter2   finishing  Wednesday     9                   0.75   2.90   \n",
       "1196  Quarter2   finishing  Wednesday     6                   0.70   2.90   \n",
       "\n",
       "         wip  over_time  incentive  idle_time  idle_men  no_of_style_change  \\\n",
       "0     1108.0       7080         98        0.0         0                   0   \n",
       "1        NaN        960          0        0.0         0                   0   \n",
       "2      968.0       3660         50        0.0         0                   0   \n",
       "3      968.0       3660         50        0.0         0                   0   \n",
       "4     1170.0       1920         50        0.0         0                   0   \n",
       "...      ...        ...        ...        ...       ...                 ...   \n",
       "1192     NaN        960          0        0.0         0                   0   \n",
       "1193     NaN        960          0        0.0         0                   0   \n",
       "1194     NaN        960          0        0.0         0                   0   \n",
       "1195     NaN       1800          0        0.0         0                   0   \n",
       "1196     NaN        720          0        0.0         0                   0   \n",
       "\n",
       "      no_of_workers  actual_productivity  \n",
       "0              59.0             0.940725  \n",
       "1               8.0             0.886500  \n",
       "2              30.5             0.800570  \n",
       "3              30.5             0.800570  \n",
       "4              56.0             0.800382  \n",
       "...             ...                  ...  \n",
       "1192            8.0             0.628333  \n",
       "1193            8.0             0.625625  \n",
       "1194            8.0             0.625625  \n",
       "1195           15.0             0.505889  \n",
       "1196            6.0             0.394722  \n",
       "\n",
       "[1197 rows x 14 columns]"
      ]
     },
     "execution_count": 3,
     "metadata": {},
     "output_type": "execute_result"
    }
   ],
   "source": [
    "columns=list(df.columns[1:])\n",
    "df=df[columns]\n",
    "df"
   ]
  },
  {
   "cell_type": "code",
   "execution_count": 5,
   "metadata": {},
   "outputs": [
    {
     "name": "stdout",
     "output_type": "stream",
     "text": [
      "['Thursday' 'Saturday' 'Sunday' 'Monday' 'Tuesday' 'Wednesday']\n",
      "['Quarter1' 'Quarter2' 'Quarter3' 'Quarter4' 'Quarter5']\n",
      "['sweing' 'finishing ' 'finishing']\n",
      "[ 8  1 11 12  6  7  2  3  9 10  5  4]\n"
     ]
    }
   ],
   "source": [
    "for i in ['day','quarter','department','team']:\n",
    "    print(df[i].unique())"
   ]
  },
  {
   "cell_type": "code",
   "execution_count": 7,
   "metadata": {},
   "outputs": [
    {
     "name": "stderr",
     "output_type": "stream",
     "text": [
      "/var/folders/n_/1hzw47553v1bvg9z8kct6rd40000gn/T/ipykernel_6317/1951944645.py:1: SettingWithCopyWarning: \n",
      "A value is trying to be set on a copy of a slice from a DataFrame.\n",
      "Try using .loc[row_indexer,col_indexer] = value instead\n",
      "\n",
      "See the caveats in the documentation: https://pandas.pydata.org/pandas-docs/stable/user_guide/indexing.html#returning-a-view-versus-a-copy\n",
      "  df['day']=df['day'].transform(lambda x: x.strip())\n"
     ]
    },
    {
     "data": {
      "text/plain": [
       "0        Thursday\n",
       "1        Thursday\n",
       "2        Thursday\n",
       "3        Thursday\n",
       "4        Thursday\n",
       "          ...    \n",
       "1192    Wednesday\n",
       "1193    Wednesday\n",
       "1194    Wednesday\n",
       "1195    Wednesday\n",
       "1196    Wednesday\n",
       "Name: day, Length: 1197, dtype: object"
      ]
     },
     "execution_count": 7,
     "metadata": {},
     "output_type": "execute_result"
    }
   ],
   "source": [
    "df['day']=df['day'].transform(lambda x: x.strip())\n",
    "df['day']"
   ]
  },
  {
   "cell_type": "code",
   "execution_count": 8,
   "metadata": {},
   "outputs": [
    {
     "name": "stderr",
     "output_type": "stream",
     "text": [
      "/var/folders/n_/1hzw47553v1bvg9z8kct6rd40000gn/T/ipykernel_6317/3522869424.py:1: SettingWithCopyWarning: \n",
      "A value is trying to be set on a copy of a slice from a DataFrame.\n",
      "Try using .loc[row_indexer,col_indexer] = value instead\n",
      "\n",
      "See the caveats in the documentation: https://pandas.pydata.org/pandas-docs/stable/user_guide/indexing.html#returning-a-view-versus-a-copy\n",
      "  df['department']=df['department'].transform(lambda x: 'sewing' if x=='sweing' else x.strip())\n"
     ]
    },
    {
     "data": {
      "text/plain": [
       "0          sewing\n",
       "1       finishing\n",
       "2          sewing\n",
       "3          sewing\n",
       "4          sewing\n",
       "          ...    \n",
       "1192    finishing\n",
       "1193    finishing\n",
       "1194    finishing\n",
       "1195    finishing\n",
       "1196    finishing\n",
       "Name: department, Length: 1197, dtype: object"
      ]
     },
     "execution_count": 8,
     "metadata": {},
     "output_type": "execute_result"
    }
   ],
   "source": [
    "df['department']=df['department'].transform(lambda x: 'sewing' if x=='sweing' else x.strip())\n",
    "df['department']"
   ]
  },
  {
   "cell_type": "code",
   "execution_count": 10,
   "metadata": {},
   "outputs": [
    {
     "data": {
      "text/plain": [
       "0        True\n",
       "1        True\n",
       "2        True\n",
       "3        True\n",
       "4        True\n",
       "        ...  \n",
       "1192    False\n",
       "1193    False\n",
       "1194    False\n",
       "1195    False\n",
       "1196    False\n",
       "Name: satisfied, Length: 1197, dtype: bool"
      ]
     },
     "execution_count": 10,
     "metadata": {},
     "output_type": "execute_result"
    }
   ],
   "source": [
    "df['satisfied']= df['actual_productivity']>=df['targeted_productivity']\n",
    "df['satisfied']"
   ]
  },
  {
   "cell_type": "code",
   "execution_count": 11,
   "metadata": {},
   "outputs": [
    {
     "data": {
      "text/html": [
       "<div>\n",
       "<style scoped>\n",
       "    .dataframe tbody tr th:only-of-type {\n",
       "        vertical-align: middle;\n",
       "    }\n",
       "\n",
       "    .dataframe tbody tr th {\n",
       "        vertical-align: top;\n",
       "    }\n",
       "\n",
       "    .dataframe thead th {\n",
       "        text-align: right;\n",
       "    }\n",
       "</style>\n",
       "<table border=\"1\" class=\"dataframe\">\n",
       "  <thead>\n",
       "    <tr style=\"text-align: right;\">\n",
       "      <th></th>\n",
       "      <th>quarter</th>\n",
       "      <th>department</th>\n",
       "      <th>day</th>\n",
       "      <th>team</th>\n",
       "      <th>smv</th>\n",
       "      <th>wip</th>\n",
       "      <th>over_time</th>\n",
       "      <th>incentive</th>\n",
       "      <th>idle_time</th>\n",
       "      <th>idle_men</th>\n",
       "      <th>no_of_style_change</th>\n",
       "      <th>no_of_workers</th>\n",
       "      <th>satisfied</th>\n",
       "    </tr>\n",
       "  </thead>\n",
       "  <tbody>\n",
       "    <tr>\n",
       "      <th>0</th>\n",
       "      <td>Quarter1</td>\n",
       "      <td>sewing</td>\n",
       "      <td>Thursday</td>\n",
       "      <td>8</td>\n",
       "      <td>26.16</td>\n",
       "      <td>1108.0</td>\n",
       "      <td>7080</td>\n",
       "      <td>98</td>\n",
       "      <td>0.0</td>\n",
       "      <td>0</td>\n",
       "      <td>0</td>\n",
       "      <td>59.0</td>\n",
       "      <td>True</td>\n",
       "    </tr>\n",
       "    <tr>\n",
       "      <th>1</th>\n",
       "      <td>Quarter1</td>\n",
       "      <td>finishing</td>\n",
       "      <td>Thursday</td>\n",
       "      <td>1</td>\n",
       "      <td>3.94</td>\n",
       "      <td>NaN</td>\n",
       "      <td>960</td>\n",
       "      <td>0</td>\n",
       "      <td>0.0</td>\n",
       "      <td>0</td>\n",
       "      <td>0</td>\n",
       "      <td>8.0</td>\n",
       "      <td>True</td>\n",
       "    </tr>\n",
       "    <tr>\n",
       "      <th>2</th>\n",
       "      <td>Quarter1</td>\n",
       "      <td>sewing</td>\n",
       "      <td>Thursday</td>\n",
       "      <td>11</td>\n",
       "      <td>11.41</td>\n",
       "      <td>968.0</td>\n",
       "      <td>3660</td>\n",
       "      <td>50</td>\n",
       "      <td>0.0</td>\n",
       "      <td>0</td>\n",
       "      <td>0</td>\n",
       "      <td>30.5</td>\n",
       "      <td>True</td>\n",
       "    </tr>\n",
       "    <tr>\n",
       "      <th>3</th>\n",
       "      <td>Quarter1</td>\n",
       "      <td>sewing</td>\n",
       "      <td>Thursday</td>\n",
       "      <td>12</td>\n",
       "      <td>11.41</td>\n",
       "      <td>968.0</td>\n",
       "      <td>3660</td>\n",
       "      <td>50</td>\n",
       "      <td>0.0</td>\n",
       "      <td>0</td>\n",
       "      <td>0</td>\n",
       "      <td>30.5</td>\n",
       "      <td>True</td>\n",
       "    </tr>\n",
       "    <tr>\n",
       "      <th>4</th>\n",
       "      <td>Quarter1</td>\n",
       "      <td>sewing</td>\n",
       "      <td>Thursday</td>\n",
       "      <td>6</td>\n",
       "      <td>25.90</td>\n",
       "      <td>1170.0</td>\n",
       "      <td>1920</td>\n",
       "      <td>50</td>\n",
       "      <td>0.0</td>\n",
       "      <td>0</td>\n",
       "      <td>0</td>\n",
       "      <td>56.0</td>\n",
       "      <td>True</td>\n",
       "    </tr>\n",
       "    <tr>\n",
       "      <th>...</th>\n",
       "      <td>...</td>\n",
       "      <td>...</td>\n",
       "      <td>...</td>\n",
       "      <td>...</td>\n",
       "      <td>...</td>\n",
       "      <td>...</td>\n",
       "      <td>...</td>\n",
       "      <td>...</td>\n",
       "      <td>...</td>\n",
       "      <td>...</td>\n",
       "      <td>...</td>\n",
       "      <td>...</td>\n",
       "      <td>...</td>\n",
       "    </tr>\n",
       "    <tr>\n",
       "      <th>1192</th>\n",
       "      <td>Quarter2</td>\n",
       "      <td>finishing</td>\n",
       "      <td>Wednesday</td>\n",
       "      <td>10</td>\n",
       "      <td>2.90</td>\n",
       "      <td>NaN</td>\n",
       "      <td>960</td>\n",
       "      <td>0</td>\n",
       "      <td>0.0</td>\n",
       "      <td>0</td>\n",
       "      <td>0</td>\n",
       "      <td>8.0</td>\n",
       "      <td>False</td>\n",
       "    </tr>\n",
       "    <tr>\n",
       "      <th>1193</th>\n",
       "      <td>Quarter2</td>\n",
       "      <td>finishing</td>\n",
       "      <td>Wednesday</td>\n",
       "      <td>8</td>\n",
       "      <td>3.90</td>\n",
       "      <td>NaN</td>\n",
       "      <td>960</td>\n",
       "      <td>0</td>\n",
       "      <td>0.0</td>\n",
       "      <td>0</td>\n",
       "      <td>0</td>\n",
       "      <td>8.0</td>\n",
       "      <td>False</td>\n",
       "    </tr>\n",
       "    <tr>\n",
       "      <th>1194</th>\n",
       "      <td>Quarter2</td>\n",
       "      <td>finishing</td>\n",
       "      <td>Wednesday</td>\n",
       "      <td>7</td>\n",
       "      <td>3.90</td>\n",
       "      <td>NaN</td>\n",
       "      <td>960</td>\n",
       "      <td>0</td>\n",
       "      <td>0.0</td>\n",
       "      <td>0</td>\n",
       "      <td>0</td>\n",
       "      <td>8.0</td>\n",
       "      <td>False</td>\n",
       "    </tr>\n",
       "    <tr>\n",
       "      <th>1195</th>\n",
       "      <td>Quarter2</td>\n",
       "      <td>finishing</td>\n",
       "      <td>Wednesday</td>\n",
       "      <td>9</td>\n",
       "      <td>2.90</td>\n",
       "      <td>NaN</td>\n",
       "      <td>1800</td>\n",
       "      <td>0</td>\n",
       "      <td>0.0</td>\n",
       "      <td>0</td>\n",
       "      <td>0</td>\n",
       "      <td>15.0</td>\n",
       "      <td>False</td>\n",
       "    </tr>\n",
       "    <tr>\n",
       "      <th>1196</th>\n",
       "      <td>Quarter2</td>\n",
       "      <td>finishing</td>\n",
       "      <td>Wednesday</td>\n",
       "      <td>6</td>\n",
       "      <td>2.90</td>\n",
       "      <td>NaN</td>\n",
       "      <td>720</td>\n",
       "      <td>0</td>\n",
       "      <td>0.0</td>\n",
       "      <td>0</td>\n",
       "      <td>0</td>\n",
       "      <td>6.0</td>\n",
       "      <td>False</td>\n",
       "    </tr>\n",
       "  </tbody>\n",
       "</table>\n",
       "<p>1197 rows × 13 columns</p>\n",
       "</div>"
      ],
      "text/plain": [
       "       quarter department        day  team    smv     wip  over_time  \\\n",
       "0     Quarter1     sewing   Thursday     8  26.16  1108.0       7080   \n",
       "1     Quarter1  finishing   Thursday     1   3.94     NaN        960   \n",
       "2     Quarter1     sewing   Thursday    11  11.41   968.0       3660   \n",
       "3     Quarter1     sewing   Thursday    12  11.41   968.0       3660   \n",
       "4     Quarter1     sewing   Thursday     6  25.90  1170.0       1920   \n",
       "...        ...        ...        ...   ...    ...     ...        ...   \n",
       "1192  Quarter2  finishing  Wednesday    10   2.90     NaN        960   \n",
       "1193  Quarter2  finishing  Wednesday     8   3.90     NaN        960   \n",
       "1194  Quarter2  finishing  Wednesday     7   3.90     NaN        960   \n",
       "1195  Quarter2  finishing  Wednesday     9   2.90     NaN       1800   \n",
       "1196  Quarter2  finishing  Wednesday     6   2.90     NaN        720   \n",
       "\n",
       "      incentive  idle_time  idle_men  no_of_style_change  no_of_workers  \\\n",
       "0            98        0.0         0                   0           59.0   \n",
       "1             0        0.0         0                   0            8.0   \n",
       "2            50        0.0         0                   0           30.5   \n",
       "3            50        0.0         0                   0           30.5   \n",
       "4            50        0.0         0                   0           56.0   \n",
       "...         ...        ...       ...                 ...            ...   \n",
       "1192          0        0.0         0                   0            8.0   \n",
       "1193          0        0.0         0                   0            8.0   \n",
       "1194          0        0.0         0                   0            8.0   \n",
       "1195          0        0.0         0                   0           15.0   \n",
       "1196          0        0.0         0                   0            6.0   \n",
       "\n",
       "      satisfied  \n",
       "0          True  \n",
       "1          True  \n",
       "2          True  \n",
       "3          True  \n",
       "4          True  \n",
       "...         ...  \n",
       "1192      False  \n",
       "1193      False  \n",
       "1194      False  \n",
       "1195      False  \n",
       "1196      False  \n",
       "\n",
       "[1197 rows x 13 columns]"
      ]
     },
     "execution_count": 11,
     "metadata": {},
     "output_type": "execute_result"
    }
   ],
   "source": [
    "df.drop([\"actual_productivity\", \"targeted_productivity\"], axis=1)"
   ]
  },
  {
   "cell_type": "code",
   "execution_count": 13,
   "metadata": {},
   "outputs": [
    {
     "data": {
      "text/plain": [
       "0       False\n",
       "1        True\n",
       "2       False\n",
       "3       False\n",
       "4       False\n",
       "        ...  \n",
       "1192     True\n",
       "1193     True\n",
       "1194     True\n",
       "1195     True\n",
       "1196     True\n",
       "Name: wip, Length: 1197, dtype: bool"
      ]
     },
     "execution_count": 13,
     "metadata": {},
     "output_type": "execute_result"
    }
   ],
   "source": [
    "df['wip'].isna()"
   ]
  },
  {
   "cell_type": "code",
   "execution_count": null,
   "metadata": {},
   "outputs": [
    {
     "data": {
      "text/plain": [
       "True"
      ]
     },
     "execution_count": 18,
     "metadata": {},
     "output_type": "execute_result"
    }
   ],
   "source": []
  },
  {
   "cell_type": "code",
   "execution_count": 14,
   "metadata": {},
   "outputs": [
    {
     "name": "stdout",
     "output_type": "stream",
     "text": [
      "wip\n"
     ]
    }
   ],
   "source": [
    "print('wip')"
   ]
  },
  {
   "cell_type": "code",
   "execution_count": 12,
   "metadata": {},
   "outputs": [
    {
     "name": "stdout",
     "output_type": "stream",
     "text": [
      "<class 'pandas.core.frame.DataFrame'>\n",
      "RangeIndex: 1197 entries, 0 to 1196\n",
      "Data columns (total 15 columns):\n",
      " #   Column                 Non-Null Count  Dtype  \n",
      "---  ------                 --------------  -----  \n",
      " 0   quarter                1197 non-null   object \n",
      " 1   department             1197 non-null   object \n",
      " 2   day                    1197 non-null   object \n",
      " 3   team                   1197 non-null   int64  \n",
      " 4   targeted_productivity  1197 non-null   float64\n",
      " 5   smv                    1197 non-null   float64\n",
      " 6   wip                    691 non-null    float64\n",
      " 7   over_time              1197 non-null   int64  \n",
      " 8   incentive              1197 non-null   int64  \n",
      " 9   idle_time              1197 non-null   float64\n",
      " 10  idle_men               1197 non-null   int64  \n",
      " 11  no_of_style_change     1197 non-null   int64  \n",
      " 12  no_of_workers          1197 non-null   float64\n",
      " 13  actual_productivity    1197 non-null   float64\n",
      " 14  satisfied              1197 non-null   bool   \n",
      "dtypes: bool(1), float64(6), int64(5), object(3)\n",
      "memory usage: 132.2+ KB\n"
     ]
    }
   ],
   "source": [
    "df.info()\n"
   ]
  },
  {
   "cell_type": "code",
   "execution_count": 23,
   "metadata": {},
   "outputs": [
    {
     "data": {
      "text/plain": [
       "0       1108.0\n",
       "1          0.0\n",
       "2        968.0\n",
       "3        968.0\n",
       "4       1170.0\n",
       "         ...  \n",
       "1192       0.0\n",
       "1193       0.0\n",
       "1194       0.0\n",
       "1195       0.0\n",
       "1196       0.0\n",
       "Name: wip, Length: 1197, dtype: float64"
      ]
     },
     "execution_count": 23,
     "metadata": {},
     "output_type": "execute_result"
    }
   ],
   "source": [
    "df['wip']=df['wip'].fillna(0)\n",
    "df['wip']"
   ]
  },
  {
   "cell_type": "markdown",
   "metadata": {
    "id": "o_Ui1K1a7gY-"
   },
   "source": [
    "## Exercise 2 - Naïve Bayes Classifier (40 points in total)\n",
    "\n",
    "### Exercise 2.1 - Additional Data Preprocessing (10 points)\n",
    "\n",
    "To build a Naïve Bayes Classifier, we need to further encode our categorical variables.\n",
    "\n",
    " - For each of the **categorical attributes**, encode the set of categories to be **0 ~ (n_classes - 1)**.\n",
    "     - For example, \\[\"paris\", \"paris\", \"tokyo\", \"amsterdam\"\\] should be encoded as \\[1, 1, 2, 0\\].\n",
    "     - Note that the order does not really matter, i.e., \\[0, 0, 1, 2\\] also works. But you have to start with 0 in your encodings.\n",
    "     - You can find information about this encoding in the discussion materials.\n",
    "\n",
    "\n",
    " - Split the data into training and testing set with the ratio of 80:20.\n",
    " - You **must** show the first five row of your encoded dataset, as well as the shape of your train test split. **No credit** will be given if this step is omitted."
   ]
  },
  {
   "cell_type": "code",
   "execution_count": 6,
   "metadata": {
    "executionInfo": {
     "elapsed": 19,
     "status": "ok",
     "timestamp": 1755113190400,
     "user": {
      "displayName": "Edwin Solares",
      "userId": "11484617739850343773"
     },
     "user_tz": 420
    },
    "id": "qe1K53wf7gY_"
   },
   "outputs": [],
   "source": [
    "# Remember to continue the task with your processed data from Exercise 1"
   ]
  },
  {
   "cell_type": "markdown",
   "metadata": {
    "id": "BIKtljxJ7gZA"
   },
   "source": [
    "### Exercise 2.2 - Naïve Bayes Classifier for Categorical Attributes (15 points)\n",
    "\n",
    "Use the categorical attributes **only**, please build a Categorical Naïve Bayes classifier that predicts the column `satisfied`. <br >\n",
    "Report the **testing result** using `classification_report`."
   ]
  },
  {
   "cell_type": "code",
   "execution_count": 7,
   "metadata": {
    "executionInfo": {
     "elapsed": 16,
     "status": "ok",
     "timestamp": 1755113190404,
     "user": {
      "displayName": "Edwin Solares",
      "userId": "11484617739850343773"
     },
     "user_tz": 420
    },
    "id": "T4rN1jOx7gZB"
   },
   "outputs": [],
   "source": [
    "# Remember to do this task with your processed data from Exercise 2.1"
   ]
  },
  {
   "cell_type": "markdown",
   "metadata": {
    "id": "QuiO1EfG7gZC"
   },
   "source": [
    "### Exercise 2.3 - Naïve Bayes Classifier for Numerical Attributes (15 points)\n",
    "\n",
    "Use the numerical attributes **only**, please build a Gaussian Naïve Bayes classifier that predicts the column `satisfied`. <br >\n",
    "Report the **testing result** using `classification_report`.\n",
    "\n",
    "**Remember to scale your data. The scaling method is up to you.**"
   ]
  },
  {
   "cell_type": "code",
   "execution_count": 8,
   "metadata": {
    "executionInfo": {
     "elapsed": 15,
     "status": "ok",
     "timestamp": 1755113190405,
     "user": {
      "displayName": "Edwin Solares",
      "userId": "11484617739850343773"
     },
     "user_tz": 420
    },
    "id": "lNDZ0LGO7gZE"
   },
   "outputs": [],
   "source": [
    "# Remember to do this task with your processed data from Exercise 2.1"
   ]
  },
  {
   "cell_type": "markdown",
   "metadata": {
    "id": "RRExMRlx7gZF"
   },
   "source": [
    "## Exercies 3 - SVM Classifier (35 points in total)\n",
    "\n",
    "### Exercise 3.1 - Additional Data Preprocessing (10 points)\n",
    "\n",
    "To build a SVM Classifier, we need a different encoding for our categorical variables.\n",
    "\n",
    " - For each of the **categorical attributes**, encode them with **one-hot encoding**.\n",
    "     - You can find information about this encoding in the discussion materials.\n",
    "\n",
    "\n",
    " - Split the data into training and testing set with the ratio of 80:20.\n",
    " - You **must** show the first five row of your encoded dataset, as well as the shape of your train test split. **No credit** will be given if this step is omitted."
   ]
  },
  {
   "cell_type": "code",
   "execution_count": 9,
   "metadata": {
    "executionInfo": {
     "elapsed": 14,
     "status": "ok",
     "timestamp": 1755113190406,
     "user": {
      "displayName": "Edwin Solares",
      "userId": "11484617739850343773"
     },
     "user_tz": 420
    },
    "id": "yPhLqrlA7gZF"
   },
   "outputs": [],
   "source": [
    "# Remember to continue the task with your processed data from Exercise 1"
   ]
  },
  {
   "cell_type": "markdown",
   "metadata": {
    "id": "43zeNOoa7gZG"
   },
   "source": [
    "### Exercise 3.2 - SVM with Different Kernels (15 points)\n",
    "\n",
    "Using all the attributes we have, please build a SVM that predicts the column `satisfied`. <br >\n",
    "Specifically, please\n",
    " - Build one SVM with **linear kernel**.\n",
    " - Build another SVM but with **rbf kernel**.\n",
    " - Report the **testing results** of **both models** using `classification report`.\n",
    "\n",
    "The kernel is the only setting requirement. <br >\n",
    "Other hyperparameter tuning is not required. But make sure they are the same in these two SVMs if you'd like to tune the model. In other words, the only difference between the two SVMs should be the kernel setting.\n",
    "\n",
    "**Remember to scale your data. The scaling method is up to you.**"
   ]
  },
  {
   "cell_type": "code",
   "execution_count": 10,
   "metadata": {
    "executionInfo": {
     "elapsed": 22,
     "status": "ok",
     "timestamp": 1755113190417,
     "user": {
      "displayName": "Edwin Solares",
      "userId": "11484617739850343773"
     },
     "user_tz": 420
    },
    "id": "edl1zzWg7gZG"
   },
   "outputs": [],
   "source": [
    "# Remember to do this task with your processed data from Exercise 3.1"
   ]
  },
  {
   "cell_type": "markdown",
   "metadata": {
    "id": "x34A1Gol7gZG"
   },
   "source": [
    "### Exercise 3.3 - SVM with Over-sampling (10 points)\n",
    " - For the column `satisfied` in our **training set**, please **print out** the frequency of each class.\n",
    " - Oversample the **training data**.\n",
    " - For the column `satisfied` in the oversampled data, **print out** the frequency of each class  again.\n",
    " - Re-build the 2 SVMs with the same setting you have in Exercise 3.2, but **use oversampled training data** instead.\n",
    "     - Do not forget to scale the data first. As always, the scaling method is up to you.\n",
    " - Report the **testing result** with `classification_report`.\n",
    "\n",
    "You can use ANY methods listed on [here](https://imbalanced-learn.org/stable/references/over_sampling.html#) such as RandomOverSampler or SMOTE. <br >\n",
    "You are definitely welcomed to build your own oversampler. <br >\n",
    "\n",
    "Note that you do not have to over-sample your testing data."
   ]
  },
  {
   "cell_type": "code",
   "execution_count": 11,
   "metadata": {
    "executionInfo": {
     "elapsed": 2,
     "status": "ok",
     "timestamp": 1755113190424,
     "user": {
      "displayName": "Edwin Solares",
      "userId": "11484617739850343773"
     },
     "user_tz": 420
    },
    "id": "kLsd3FCZ7gZG"
   },
   "outputs": [],
   "source": [
    "# Remember to do this task with your processed data from Exercise 3.1"
   ]
  },
  {
   "cell_type": "markdown",
   "metadata": {
    "id": "NghAaQwm7o6S"
   },
   "source": [
    "## 4) Collaborative Statement (5 points)\n",
    "#### You must fill this out even if you worked alone to get credit.\n",
    "\n",
    "It is mandatory to include a Statement of Collaboration in each submission, that follows the guidelines below.\n",
    "Include the names of everyone involved in the discussions (especially in-person ones), and what was discussed.\n",
    "All students are required to follow the academic honesty guidelines posted on the course website. For\n",
    "programming assignments in particular, I encourage students to organize (perhaps using Piazza) to discuss the\n",
    "task descriptions, requirements, possible bugs in the support code, and the relevant technical content before they\n",
    "start working on it. However, you should not discuss the specific solutions, and as a guiding principle, you are\n",
    "not allowed to take anything written or drawn away from these discussions (no photographs of the blackboard,\n",
    "written notes, referring to Piazza, etc.). Especially after you have started working on the assignment, try to restrict\n",
    "the discussion to Piazza as much as possible, so that there is no doubt as to the extent of your collaboration.\n",
    "\n",
    "Even if you did not use any outside resources or collaborate with anyone, please state that explicitly in the space below."
   ]
  },
  {
   "cell_type": "markdown",
   "metadata": {
    "id": "zAGHaltx7usH"
   },
   "source": []
  }
 ],
 "metadata": {
  "colab": {
   "provenance": [
    {
     "file_id": "https://github.com/ucsd-cse151a-ss25/hw2/blob/main/HW2_NB_%26_SVMs.ipynb",
     "timestamp": 1755112998995
    }
   ]
  },
  "kernelspec": {
   "display_name": "Python 3",
   "language": "python",
   "name": "python3"
  },
  "language_info": {
   "codemirror_mode": {
    "name": "ipython",
    "version": 3
   },
   "file_extension": ".py",
   "mimetype": "text/x-python",
   "name": "python",
   "nbconvert_exporter": "python",
   "pygments_lexer": "ipython3",
   "version": "3.12.1"
  }
 },
 "nbformat": 4,
 "nbformat_minor": 0
}
